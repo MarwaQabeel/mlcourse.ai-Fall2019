{
 "cells": [
  {
   "cell_type": "markdown",
   "metadata": {},
   "source": [
    "<center>\n",
    "<img src=\"../../img/ods_stickers.jpg\" />\n",
    "    \n",
    "## [mlcourse.ai](https://mlcourse.ai) – Open Machine Learning Course \n",
    "Author: Arina Lopukhova (@erynn). Edited by [Yury Kashnitskiy](https://yorko.github.io) (@yorko) and Vadim Shestopalov (@vchulski). This material is subject to the terms and conditions of the [Creative Commons CC BY-NC-SA 4.0](https://creativecommons.org/licenses/by-nc-sa/4.0/) license. Free use is permitted for any non-commercial purpose."
   ]
  },
  {
   "cell_type": "markdown",
   "metadata": {},
   "source": [
    "# <center>Assignment #1. Fall 2019\n",
    "## <center>Exploratory data analysis of Olympic games with Pandas\n",
    "    \n",
    "<img src='../../img/olympic_logo.png' width=50%>"
   ]
  },
  {
   "cell_type": "markdown",
   "metadata": {},
   "source": [
    "Prior to working on the assignment, you'd better check out the corresponding course material:\n",
    " - [Exploratory data analysis with Pandas](https://nbviewer.jupyter.org/github/Yorko/mlcourse_open/blob/master/jupyter_english/topic01_pandas_data_analysis/topic1_pandas_data_analysis.ipynb?flush_cache=true), the same as an interactive web-based [Kaggle Kernel](https://www.kaggle.com/kashnitsky/topic-1-exploratory-data-analysis-with-pandas)\n",
    " - first lectures in mlcourse.ai [YouTube playlist ](https://www.youtube.com/watch?v=QKTuw4PNOsU&list=PLVlY_7IJCMJeRfZ68eVfEcu-UcN9BbwiX) \n",
    " - you can also practice with demo assignments, which are simpler and already shared with solutions: [A1 demo](https://www.kaggle.com/kashnitsky/a1-demo-pandas-and-uci-adult-dataset), [solution](https://www.kaggle.com/kashnitsky/a1-demo-pandas-and-uci-adult-dataset-solution)\n",
    "\n",
    "### Your task is to:\n",
    " 1. write code and perform computations in the cells below\n",
    " 2. choose answers in the [webform](https://docs.google.com/forms/d/1JxhQ9Bg4OpM3E5N47ZuRbILgDuMRbvEnUbDMZK8L-NU). Solutions will be shared only with those who've filled in this form \n",
    " 3. submit answers with some email and **remember it**! This will be your ID during the course. Specify your real full name in the form as well (no nicks allowed in the final top-100 [rating](https://mlcourse.ai/rating)). If in doubt, you can re-submit the form till the deadline for A1, no problem, but stick to only one email.\n",
    " \n",
    "### <center> Deadline for A1: 2019 September 15, 20:59 GMT (London time)\n",
    "    \n",
    "You'll get up to 10 credits for this assignment.\n",
    "\n",
    "### How to get help\n",
    "In [ODS Slack](https://opendatascience.slack.com) (if you still don't have access, fill in the [form](https://docs.google.com/forms/d/10HAN5huM996snUKjsNYyT_oOlm2uOsTKulKurb3oiNM/) mentioned on the mlcourse.ai main page), we have a channel **#mlcourse_ai_news** with announcements from the course team.\n",
    "You can discuss the course content freely in the **#mlcourse_ai** channel (we still have a huge Russian-speaking group, they have a separate channel **#mlcourse_ai_rus**).\n",
    "\n",
    "Here's how you reply in a thread (press this dialog icon to drill down into a thread):\n",
    "\n",
    "<img src=\"../../img/start_a_thread.png\" />\n",
    "\n",
    "Please stick to special threads *a1_q1-5_fall2019* and *a1_q6-10_fall2019* in **#mlcourse_ai_news** for your questions on A1. Help each other without sharing correct code and answers. Our TA **Vadim @vchulski** is there to help (only in the mentioned thread, do not write to him directly).\n",
    "\n",
    "Lastly, you can save useful messages by pinning them, further you can find pinned items on the top, just below the channel name:\n",
    "\n",
    "<img src=\"../../img/pinned_item.png\" />\n",
    "\n",
    "### Assignment \n",
    "__There are ten questions about 120 years of Olympic history in this task. Your task is to fill in the missing Python code and choose answers in [this web-form](https://docs.google.com/forms/d/1JxhQ9Bg4OpM3E5N47ZuRbILgDuMRbvEnUbDMZK8L-NU).__"
   ]
  },
  {
   "cell_type": "markdown",
   "metadata": {},
   "source": [
    "Download the file `athlete_events.csv` from [here](https://drive.google.com/file/d/1f5v6Z2ayc7h698FG_98wP5x1Y2zZQeox/view?usp=sharing) (scraped by [rgriffin](https://www.randigriffin.com/) from www.sports-reference.com). The dataset has the following features:\n",
    "\n",
    "- __ID__ - Unique number for each athlete\n",
    "- __Name__ - Athlete's name\n",
    "- __Sex__ - M or F\n",
    "- __Age__ - Integer\n",
    "- __Height__ - In centimeters\n",
    "- __Weight__ - In kilograms\n",
    "- __Team__ - Team name\n",
    "- __NOC__ - National Olympic Committee 3-letter code\n",
    "- __Games__ - Year and season\n",
    "- __Year__ - Integer\n",
    "- __Season__ - Summer or Winter\n",
    "- __City__ - Host city\n",
    "- __Sport__ - Sport\n",
    "- __Event__ - Event\n",
    "- __Medal__ - Gold, Silver, Bronze, or NA"
   ]
  },
  {
   "cell_type": "code",
   "execution_count": 1,
   "metadata": {},
   "outputs": [],
   "source": [
    "import pandas as pd"
   ]
  },
  {
   "cell_type": "code",
   "execution_count": 6,
   "metadata": {},
   "outputs": [
    {
     "data": {
      "text/plain": [
       "'C:\\\\Users\\\\computer\\\\Documents\\\\github_repos\\\\mlcourse.ai-Fall2019\\\\First Assignment'"
      ]
     },
     "execution_count": 6,
     "metadata": {},
     "output_type": "execute_result"
    }
   ],
   "source": [
    "pwd"
   ]
  },
  {
   "cell_type": "code",
   "execution_count": 7,
   "metadata": {},
   "outputs": [],
   "source": [
    "# Change the path to the dataset file if needed. \n",
    "PATH = 'athlete_events.csv'"
   ]
  },
  {
   "cell_type": "code",
   "execution_count": 8,
   "metadata": {},
   "outputs": [
    {
     "data": {
      "text/html": [
       "<div>\n",
       "<style scoped>\n",
       "    .dataframe tbody tr th:only-of-type {\n",
       "        vertical-align: middle;\n",
       "    }\n",
       "\n",
       "    .dataframe tbody tr th {\n",
       "        vertical-align: top;\n",
       "    }\n",
       "\n",
       "    .dataframe thead th {\n",
       "        text-align: right;\n",
       "    }\n",
       "</style>\n",
       "<table border=\"1\" class=\"dataframe\">\n",
       "  <thead>\n",
       "    <tr style=\"text-align: right;\">\n",
       "      <th></th>\n",
       "      <th>ID</th>\n",
       "      <th>Name</th>\n",
       "      <th>Sex</th>\n",
       "      <th>Age</th>\n",
       "      <th>Height</th>\n",
       "      <th>Weight</th>\n",
       "      <th>Team</th>\n",
       "      <th>NOC</th>\n",
       "      <th>Games</th>\n",
       "      <th>Year</th>\n",
       "      <th>Season</th>\n",
       "      <th>City</th>\n",
       "      <th>Sport</th>\n",
       "      <th>Event</th>\n",
       "      <th>Medal</th>\n",
       "    </tr>\n",
       "  </thead>\n",
       "  <tbody>\n",
       "    <tr>\n",
       "      <th>0</th>\n",
       "      <td>1</td>\n",
       "      <td>A Dijiang</td>\n",
       "      <td>M</td>\n",
       "      <td>24.0</td>\n",
       "      <td>180.0</td>\n",
       "      <td>80.0</td>\n",
       "      <td>China</td>\n",
       "      <td>CHN</td>\n",
       "      <td>1992 Summer</td>\n",
       "      <td>1992</td>\n",
       "      <td>Summer</td>\n",
       "      <td>Barcelona</td>\n",
       "      <td>Basketball</td>\n",
       "      <td>Basketball Men's Basketball</td>\n",
       "      <td>NaN</td>\n",
       "    </tr>\n",
       "    <tr>\n",
       "      <th>1</th>\n",
       "      <td>2</td>\n",
       "      <td>A Lamusi</td>\n",
       "      <td>M</td>\n",
       "      <td>23.0</td>\n",
       "      <td>170.0</td>\n",
       "      <td>60.0</td>\n",
       "      <td>China</td>\n",
       "      <td>CHN</td>\n",
       "      <td>2012 Summer</td>\n",
       "      <td>2012</td>\n",
       "      <td>Summer</td>\n",
       "      <td>London</td>\n",
       "      <td>Judo</td>\n",
       "      <td>Judo Men's Extra-Lightweight</td>\n",
       "      <td>NaN</td>\n",
       "    </tr>\n",
       "    <tr>\n",
       "      <th>2</th>\n",
       "      <td>3</td>\n",
       "      <td>Gunnar Nielsen Aaby</td>\n",
       "      <td>M</td>\n",
       "      <td>24.0</td>\n",
       "      <td>NaN</td>\n",
       "      <td>NaN</td>\n",
       "      <td>Denmark</td>\n",
       "      <td>DEN</td>\n",
       "      <td>1920 Summer</td>\n",
       "      <td>1920</td>\n",
       "      <td>Summer</td>\n",
       "      <td>Antwerpen</td>\n",
       "      <td>Football</td>\n",
       "      <td>Football Men's Football</td>\n",
       "      <td>NaN</td>\n",
       "    </tr>\n",
       "    <tr>\n",
       "      <th>3</th>\n",
       "      <td>4</td>\n",
       "      <td>Edgar Lindenau Aabye</td>\n",
       "      <td>M</td>\n",
       "      <td>34.0</td>\n",
       "      <td>NaN</td>\n",
       "      <td>NaN</td>\n",
       "      <td>Denmark/Sweden</td>\n",
       "      <td>DEN</td>\n",
       "      <td>1900 Summer</td>\n",
       "      <td>1900</td>\n",
       "      <td>Summer</td>\n",
       "      <td>Paris</td>\n",
       "      <td>Tug-Of-War</td>\n",
       "      <td>Tug-Of-War Men's Tug-Of-War</td>\n",
       "      <td>Gold</td>\n",
       "    </tr>\n",
       "    <tr>\n",
       "      <th>4</th>\n",
       "      <td>5</td>\n",
       "      <td>Christine Jacoba Aaftink</td>\n",
       "      <td>F</td>\n",
       "      <td>21.0</td>\n",
       "      <td>185.0</td>\n",
       "      <td>82.0</td>\n",
       "      <td>Netherlands</td>\n",
       "      <td>NED</td>\n",
       "      <td>1988 Winter</td>\n",
       "      <td>1988</td>\n",
       "      <td>Winter</td>\n",
       "      <td>Calgary</td>\n",
       "      <td>Speed Skating</td>\n",
       "      <td>Speed Skating Women's 500 metres</td>\n",
       "      <td>NaN</td>\n",
       "    </tr>\n",
       "  </tbody>\n",
       "</table>\n",
       "</div>"
      ],
      "text/plain": [
       "   ID                      Name Sex   Age  Height  Weight            Team  \\\n",
       "0   1                 A Dijiang   M  24.0   180.0    80.0           China   \n",
       "1   2                  A Lamusi   M  23.0   170.0    60.0           China   \n",
       "2   3       Gunnar Nielsen Aaby   M  24.0     NaN     NaN         Denmark   \n",
       "3   4      Edgar Lindenau Aabye   M  34.0     NaN     NaN  Denmark/Sweden   \n",
       "4   5  Christine Jacoba Aaftink   F  21.0   185.0    82.0     Netherlands   \n",
       "\n",
       "   NOC        Games  Year  Season       City          Sport  \\\n",
       "0  CHN  1992 Summer  1992  Summer  Barcelona     Basketball   \n",
       "1  CHN  2012 Summer  2012  Summer     London           Judo   \n",
       "2  DEN  1920 Summer  1920  Summer  Antwerpen       Football   \n",
       "3  DEN  1900 Summer  1900  Summer      Paris     Tug-Of-War   \n",
       "4  NED  1988 Winter  1988  Winter    Calgary  Speed Skating   \n",
       "\n",
       "                              Event Medal  \n",
       "0       Basketball Men's Basketball   NaN  \n",
       "1      Judo Men's Extra-Lightweight   NaN  \n",
       "2           Football Men's Football   NaN  \n",
       "3       Tug-Of-War Men's Tug-Of-War  Gold  \n",
       "4  Speed Skating Women's 500 metres   NaN  "
      ]
     },
     "execution_count": 8,
     "metadata": {},
     "output_type": "execute_result"
    }
   ],
   "source": [
    "data = pd.read_csv(PATH)\n",
    "data.head()"
   ]
  },
  {
   "cell_type": "code",
   "execution_count": 19,
   "metadata": {},
   "outputs": [
    {
     "name": "stdout",
     "output_type": "stream",
     "text": [
      "<class 'pandas.core.frame.DataFrame'>\n",
      "RangeIndex: 271116 entries, 0 to 271115\n",
      "Data columns (total 15 columns):\n",
      "ID        271116 non-null int64\n",
      "Name      271116 non-null object\n",
      "Sex       271116 non-null object\n",
      "Age       261642 non-null float64\n",
      "Height    210945 non-null float64\n",
      "Weight    208241 non-null float64\n",
      "Team      271116 non-null object\n",
      "NOC       271116 non-null object\n",
      "Games     271116 non-null object\n",
      "Year      271116 non-null int64\n",
      "Season    271116 non-null object\n",
      "City      271116 non-null object\n",
      "Sport     271116 non-null object\n",
      "Event     271116 non-null object\n",
      "Medal     39783 non-null object\n",
      "dtypes: float64(3), int64(2), object(10)\n",
      "memory usage: 31.0+ MB\n"
     ]
    }
   ],
   "source": [
    "data.info()"
   ]
  },
  {
   "cell_type": "code",
   "execution_count": 24,
   "metadata": {},
   "outputs": [
    {
     "data": {
      "text/html": [
       "<div>\n",
       "<style scoped>\n",
       "    .dataframe tbody tr th:only-of-type {\n",
       "        vertical-align: middle;\n",
       "    }\n",
       "\n",
       "    .dataframe tbody tr th {\n",
       "        vertical-align: top;\n",
       "    }\n",
       "\n",
       "    .dataframe thead th {\n",
       "        text-align: right;\n",
       "    }\n",
       "</style>\n",
       "<table border=\"1\" class=\"dataframe\">\n",
       "  <thead>\n",
       "    <tr style=\"text-align: right;\">\n",
       "      <th></th>\n",
       "      <th>ID</th>\n",
       "      <th>Age</th>\n",
       "      <th>Height</th>\n",
       "      <th>Weight</th>\n",
       "      <th>Year</th>\n",
       "    </tr>\n",
       "  </thead>\n",
       "  <tbody>\n",
       "    <tr>\n",
       "      <th>count</th>\n",
       "      <td>271116.000000</td>\n",
       "      <td>261642.000000</td>\n",
       "      <td>210945.000000</td>\n",
       "      <td>208241.000000</td>\n",
       "      <td>271116.000000</td>\n",
       "    </tr>\n",
       "    <tr>\n",
       "      <th>mean</th>\n",
       "      <td>68248.954396</td>\n",
       "      <td>25.556898</td>\n",
       "      <td>175.338970</td>\n",
       "      <td>70.702393</td>\n",
       "      <td>1978.378480</td>\n",
       "    </tr>\n",
       "    <tr>\n",
       "      <th>std</th>\n",
       "      <td>39022.286345</td>\n",
       "      <td>6.393561</td>\n",
       "      <td>10.518462</td>\n",
       "      <td>14.348020</td>\n",
       "      <td>29.877632</td>\n",
       "    </tr>\n",
       "    <tr>\n",
       "      <th>min</th>\n",
       "      <td>1.000000</td>\n",
       "      <td>10.000000</td>\n",
       "      <td>127.000000</td>\n",
       "      <td>25.000000</td>\n",
       "      <td>1896.000000</td>\n",
       "    </tr>\n",
       "    <tr>\n",
       "      <th>25%</th>\n",
       "      <td>34643.000000</td>\n",
       "      <td>21.000000</td>\n",
       "      <td>168.000000</td>\n",
       "      <td>60.000000</td>\n",
       "      <td>1960.000000</td>\n",
       "    </tr>\n",
       "    <tr>\n",
       "      <th>50%</th>\n",
       "      <td>68205.000000</td>\n",
       "      <td>24.000000</td>\n",
       "      <td>175.000000</td>\n",
       "      <td>70.000000</td>\n",
       "      <td>1988.000000</td>\n",
       "    </tr>\n",
       "    <tr>\n",
       "      <th>75%</th>\n",
       "      <td>102097.250000</td>\n",
       "      <td>28.000000</td>\n",
       "      <td>183.000000</td>\n",
       "      <td>79.000000</td>\n",
       "      <td>2002.000000</td>\n",
       "    </tr>\n",
       "    <tr>\n",
       "      <th>max</th>\n",
       "      <td>135571.000000</td>\n",
       "      <td>97.000000</td>\n",
       "      <td>226.000000</td>\n",
       "      <td>214.000000</td>\n",
       "      <td>2016.000000</td>\n",
       "    </tr>\n",
       "  </tbody>\n",
       "</table>\n",
       "</div>"
      ],
      "text/plain": [
       "                  ID            Age         Height         Weight  \\\n",
       "count  271116.000000  261642.000000  210945.000000  208241.000000   \n",
       "mean    68248.954396      25.556898     175.338970      70.702393   \n",
       "std     39022.286345       6.393561      10.518462      14.348020   \n",
       "min         1.000000      10.000000     127.000000      25.000000   \n",
       "25%     34643.000000      21.000000     168.000000      60.000000   \n",
       "50%     68205.000000      24.000000     175.000000      70.000000   \n",
       "75%    102097.250000      28.000000     183.000000      79.000000   \n",
       "max    135571.000000      97.000000     226.000000     214.000000   \n",
       "\n",
       "                Year  \n",
       "count  271116.000000  \n",
       "mean     1978.378480  \n",
       "std        29.877632  \n",
       "min      1896.000000  \n",
       "25%      1960.000000  \n",
       "50%      1988.000000  \n",
       "75%      2002.000000  \n",
       "max      2016.000000  "
      ]
     },
     "execution_count": 24,
     "metadata": {},
     "output_type": "execute_result"
    }
   ],
   "source": [
    "data.describe()"
   ]
  },
  {
   "cell_type": "markdown",
   "metadata": {},
   "source": [
    "__1. How old were the youngest male and female participants of the 1992 Olympics?__\n",
    "\n",
    "*For discussions, please stick to [ODS Slack](https://opendatascience.slack.com/), channel #mlcourse_ai_news, pinned thread #a1_q1-5_fall2019*\n",
    "\n",
    "- 16 and 15\n",
    "- 14 and 13 \n",
    "- 13 and 11\n",
    "- 11 and 12"
   ]
  },
  {
   "cell_type": "code",
   "execution_count": 21,
   "metadata": {},
   "outputs": [
    {
     "data": {
      "text/plain": [
       "11.0"
      ]
     },
     "execution_count": 21,
     "metadata": {},
     "output_type": "execute_result"
    }
   ],
   "source": [
    "# Age of the youngest male participants of the 1992 Olympics\n",
    "data[(data['Year'] == 1992) & (data['Sex'] == 'M')]['Age'].min()"
   ]
  },
  {
   "cell_type": "code",
   "execution_count": 25,
   "metadata": {},
   "outputs": [
    {
     "data": {
      "text/plain": [
       "12.0"
      ]
     },
     "execution_count": 25,
     "metadata": {},
     "output_type": "execute_result"
    }
   ],
   "source": [
    "# Age of the youngest female participants of the 1992 Olympics\n",
    "data[(data['Year'] == 1992) & (data['Sex'] == 'F')]['Age'].min()"
   ]
  },
  {
   "cell_type": "markdown",
   "metadata": {},
   "source": [
    "__2. What was the percentage of male basketball players among all the male participants of the 2012 Olympics? Round the answer to the first decimal.__\n",
    "\n",
    "*Hint:* here and further if needed drop duplicated sportsmen to count only unique ones. \n",
    "\n",
    "*For discussions, please stick to [ODS Slack](https://opendatascience.slack.com/), channel #mlcourse_ai_news, pinned thread #a1_q1-5_fall2019*\n",
    "\n",
    "- 0.2\n",
    "- 1.5 \n",
    "- 2.5\n",
    "- 7.7"
   ]
  },
  {
   "cell_type": "code",
   "execution_count": 30,
   "metadata": {},
   "outputs": [
    {
     "data": {
      "text/plain": [
       "<bound method DataFrame.duplicated of             ID                                     Name Sex   Age  Height  \\\n",
       "0            1                                A Dijiang   M  24.0   180.0   \n",
       "167         69                        Tamara Abalde Daz   F  19.0   185.0   \n",
       "250        124                    Youssef Mohamed Abbas   M  31.0     NaN   \n",
       "264        136                         Alessandro Abbio   M  29.0   195.0   \n",
       "346        192       Ahmed El-Sayed Abdel Hamid Mobarak   M  25.0   189.0   \n",
       "359        199                        Amir Abdel Meguid   M  23.0   178.0   \n",
       "360        199                        Amir Abdel Meguid   M  27.0   178.0   \n",
       "363        202                     Awad Abdel Nabi Awad   M  19.0   198.0   \n",
       "364        202                     Awad Abdel Nabi Awad   M  23.0   198.0   \n",
       "490        270                       Alaa El-Din Abdoun   M  23.0   188.0   \n",
       "609        351               Julius Shareef Abdur-Rahim   M  23.0   202.0   \n",
       "641        370                             Shigeaki Abe   M  24.0   178.0   \n",
       "642        370                             Shigeaki Abe   M  28.0   178.0   \n",
       "833        474                  Essameldin Abou El-Nein   M  29.0   205.0   \n",
       "839        480           Youssef Kamel Mohamed Abou Ouf   M  24.0     NaN   \n",
       "840        480           Youssef Kamel Mohamed Abou Ouf   M  28.0     NaN   \n",
       "1018       570                       Pedro Abreu Pascal   M  23.0   200.0   \n",
       "1029       576          Alejandro \"lex\" Abrines Redondo   M  23.0   198.0   \n",
       "1034       580             Svetlana Olegovna Abrosimova   F  20.0   188.0   \n",
       "1035       580             Svetlana Olegovna Abrosimova   F  28.0   188.0   \n",
       "1181       661                          Emilio Achacoso   M  28.0   178.0   \n",
       "1186       664                     Kieron Robert Achara   M  29.0   208.0   \n",
       "1214       683                   Natalie Chioma Achonwa   F  19.0   190.0   \n",
       "1215       683                   Natalie Chioma Achonwa   F  23.0   190.0   \n",
       "1292       727              Martn Ral Acosta y Lara Daz   M  23.0     NaN   \n",
       "1293       727              Martn Ral Acosta y Lara Daz   M  27.0     NaN   \n",
       "1320       740                  ngel \"Mudo\" Acua Lizana   M  29.0     NaN   \n",
       "1322       742                             Roberto Acua   M  25.0   208.0   \n",
       "1701       947            Adilson de Freitas Nascimento   M  20.0   195.0   \n",
       "1702       947            Adilson de Freitas Nascimento   M  28.0   195.0   \n",
       "...        ...                                      ...  ..   ...     ...   \n",
       "269474  134838                               Zhu Fangyu   M  21.0   201.0   \n",
       "269475  134838                               Zhu Fangyu   M  25.0   201.0   \n",
       "269476  134838                               Zhu Fangyu   M  29.0   201.0   \n",
       "269608  134906  Olena Mykolaivna Zhyrko (-Marenchikova)   F  24.0   180.0   \n",
       "269609  134906  Olena Mykolaivna Zhyrko (-Marenchikova)   F  28.0   180.0   \n",
       "269627  134922                                  Ji Zdek   M  28.0   206.0   \n",
       "270060  135105                             Zuzana irkov   F  20.0   175.0   \n",
       "270081  135113                   Nikolaos \"Nikos\" Zisis   M  20.0   195.0   \n",
       "270082  135113                   Nikolaos \"Nikos\" Zisis   M  24.0   195.0   \n",
       "270119  135138                                 Rajko ii   M  21.0   210.0   \n",
       "270120  135138                                 Rajko ii   M  25.0   210.0   \n",
       "270121  135138                                 Rajko ii   M  29.0   210.0   \n",
       "270278  135203                           Kateina Zohnov   F  27.0   179.0   \n",
       "270360  135241                               Aljoa orga   M  21.0   200.0   \n",
       "270382  135251                             Neboja Zorki   M  22.0   187.0   \n",
       "270444  135273                               Zou Yuchen   M  20.0   203.0   \n",
       "270522  135299                          Michaela Zrstov   F  25.0   186.0   \n",
       "270534  135306                             Tibor Zsiros   M  18.0   195.0   \n",
       "270535  135306                             Tibor Zsiros   M  22.0   195.0   \n",
       "270536  135306                             Tibor Zsiros   M  30.0   195.0   \n",
       "270613  135345               Viktor Alekseyevich Zubkov   M  19.0   202.0   \n",
       "270614  135345               Viktor Alekseyevich Zubkov   M  23.0   202.0   \n",
       "270680  135369                              Dino Zucchi   M  24.0   192.0   \n",
       "270740  135401                       Eurelijus ukauskas   M  22.0   218.0   \n",
       "270741  135401                       Eurelijus ukauskas   M  27.0   218.0   \n",
       "270742  135401                       Eurelijus ukauskas   M  30.0   218.0   \n",
       "270743  135402                       Mindaugas ukauskas   M  20.0   201.0   \n",
       "270744  135402                       Mindaugas ukauskas   M  28.0   201.0   \n",
       "271026  135530                           Philip Zwiener   M  23.0   202.0   \n",
       "271110  135568                   Olga Igorevna Zyuzkova   F  33.0   171.0   \n",
       "\n",
       "        Weight            Team  NOC        Games  Year  Season  \\\n",
       "0         80.0           China  CHN  1992 Summer  1992  Summer   \n",
       "167       72.0           Spain  ESP  2008 Summer  2008  Summer   \n",
       "250        NaN           Egypt  EGY  1952 Summer  1952  Summer   \n",
       "264       85.0           Italy  ITA  2000 Summer  2000  Summer   \n",
       "346       85.0           Egypt  EGY  1972 Summer  1972  Summer   \n",
       "359       67.0           Egypt  EGY  1984 Summer  1984  Summer   \n",
       "360       67.0           Egypt  EGY  1988 Summer  1988  Summer   \n",
       "363       80.0           Egypt  EGY  1972 Summer  1972  Summer   \n",
       "364       80.0           Egypt  EGY  1976 Summer  1976  Summer   \n",
       "490       78.0           Egypt  EGY  1988 Summer  1988  Summer   \n",
       "609      104.0   United States  USA  2000 Summer  2000  Summer   \n",
       "641       70.0           Japan  JPN  1972 Summer  1972  Summer   \n",
       "642       70.0           Japan  JPN  1976 Summer  1976  Summer   \n",
       "833      102.0           Egypt  EGY  1984 Summer  1984  Summer   \n",
       "839        NaN           Egypt  EGY  1948 Summer  1948  Summer   \n",
       "840        NaN           Egypt  EGY  1952 Summer  1952  Summer   \n",
       "1018      88.0            Cuba  CUB  1980 Summer  1980  Summer   \n",
       "1029      93.0           Spain  ESP  2016 Summer  2016  Summer   \n",
       "1034      77.0          Russia  RUS  2000 Summer  2000  Summer   \n",
       "1035      77.0          Russia  RUS  2008 Summer  2008  Summer   \n",
       "1181      78.0     Philippines  PHI  1960 Summer  1960  Summer   \n",
       "1186     110.0   Great Britain  GBR  2012 Summer  2012  Summer   \n",
       "1214      86.0          Canada  CAN  2012 Summer  2012  Summer   \n",
       "1215      86.0          Canada  CAN  2016 Summer  2016  Summer   \n",
       "1292       NaN         Uruguay  URU  1948 Summer  1948  Summer   \n",
       "1293       NaN         Uruguay  URU  1952 Summer  1952  Summer   \n",
       "1320       NaN          Mexico  MEX  1948 Summer  1948  Summer   \n",
       "1322     109.0       Argentina  ARG  2016 Summer  2016  Summer   \n",
       "1701      88.0          Brazil  BRA  1972 Summer  1972  Summer   \n",
       "1702      88.0          Brazil  BRA  1980 Summer  1980  Summer   \n",
       "...        ...             ...  ...          ...   ...     ...   \n",
       "269474   100.0           China  CHN  2004 Summer  2004  Summer   \n",
       "269475   100.0           China  CHN  2008 Summer  2008  Summer   \n",
       "269476   100.0           China  CHN  2012 Summer  2012  Summer   \n",
       "269608     NaN    Unified Team  EUN  1992 Summer  1992  Summer   \n",
       "269609     NaN         Ukraine  UKR  1996 Summer  1996  Summer   \n",
       "269627   100.0  Czechoslovakia  TCH  1972 Summer  1972  Summer   \n",
       "270060    67.0        Slovakia  SVK  2000 Summer  2000  Summer   \n",
       "270081    90.0          Greece  GRE  2004 Summer  2004  Summer   \n",
       "270082    90.0          Greece  GRE  2008 Summer  2008  Summer   \n",
       "270119   110.0      Yugoslavia  YUG  1976 Summer  1976  Summer   \n",
       "270120   110.0      Yugoslavia  YUG  1980 Summer  1980  Summer   \n",
       "270121   110.0      Yugoslavia  YUG  1984 Summer  1984  Summer   \n",
       "270278    63.0  Czech Republic  CZE  2012 Summer  2012  Summer   \n",
       "270360    91.0      Yugoslavia  YUG  1968 Summer  1968  Summer   \n",
       "270382    77.0      Yugoslavia  YUG  1984 Summer  1984  Summer   \n",
       "270444   107.0           China  CHN  2016 Summer  2016  Summer   \n",
       "270522    74.0  Czech Republic  CZE  2012 Summer  2012  Summer   \n",
       "270534    97.0         Hungary  HUN  1948 Summer  1948  Summer   \n",
       "270535    97.0         Hungary  HUN  1952 Summer  1952  Summer   \n",
       "270536    97.0         Hungary  HUN  1960 Summer  1960  Summer   \n",
       "270613    88.0    Soviet Union  URS  1956 Summer  1956  Summer   \n",
       "270614    88.0    Soviet Union  URS  1960 Summer  1960  Summer   \n",
       "270680     NaN           Italy  ITA  1952 Summer  1952  Summer   \n",
       "270740   115.0       Lithuania  LTU  1996 Summer  1996  Summer   \n",
       "270741   115.0       Lithuania  LTU  2000 Summer  2000  Summer   \n",
       "270742   115.0       Lithuania  LTU  2004 Summer  2004  Summer   \n",
       "270743   100.0       Lithuania  LTU  1996 Summer  1996  Summer   \n",
       "270744   100.0       Lithuania  LTU  2004 Summer  2004  Summer   \n",
       "271026    98.0         Germany  GER  2008 Summer  2008  Summer   \n",
       "271110    69.0         Belarus  BLR  2016 Summer  2016  Summer   \n",
       "\n",
       "                  City       Sport                          Event   Medal  \n",
       "0            Barcelona  Basketball    Basketball Men's Basketball     NaN  \n",
       "167            Beijing  Basketball  Basketball Women's Basketball     NaN  \n",
       "250           Helsinki  Basketball    Basketball Men's Basketball     NaN  \n",
       "264             Sydney  Basketball    Basketball Men's Basketball     NaN  \n",
       "346             Munich  Basketball    Basketball Men's Basketball     NaN  \n",
       "359        Los Angeles  Basketball    Basketball Men's Basketball     NaN  \n",
       "360              Seoul  Basketball    Basketball Men's Basketball     NaN  \n",
       "363             Munich  Basketball    Basketball Men's Basketball     NaN  \n",
       "364           Montreal  Basketball    Basketball Men's Basketball     NaN  \n",
       "490              Seoul  Basketball    Basketball Men's Basketball     NaN  \n",
       "609             Sydney  Basketball    Basketball Men's Basketball    Gold  \n",
       "641             Munich  Basketball    Basketball Men's Basketball     NaN  \n",
       "642           Montreal  Basketball    Basketball Men's Basketball     NaN  \n",
       "833        Los Angeles  Basketball    Basketball Men's Basketball     NaN  \n",
       "839             London  Basketball    Basketball Men's Basketball     NaN  \n",
       "840           Helsinki  Basketball    Basketball Men's Basketball     NaN  \n",
       "1018            Moskva  Basketball    Basketball Men's Basketball     NaN  \n",
       "1029    Rio de Janeiro  Basketball    Basketball Men's Basketball  Bronze  \n",
       "1034            Sydney  Basketball  Basketball Women's Basketball     NaN  \n",
       "1035           Beijing  Basketball  Basketball Women's Basketball  Bronze  \n",
       "1181              Roma  Basketball    Basketball Men's Basketball     NaN  \n",
       "1186            London  Basketball    Basketball Men's Basketball     NaN  \n",
       "1214            London  Basketball  Basketball Women's Basketball     NaN  \n",
       "1215    Rio de Janeiro  Basketball  Basketball Women's Basketball     NaN  \n",
       "1292            London  Basketball    Basketball Men's Basketball     NaN  \n",
       "1293          Helsinki  Basketball    Basketball Men's Basketball  Bronze  \n",
       "1320            London  Basketball    Basketball Men's Basketball     NaN  \n",
       "1322    Rio de Janeiro  Basketball    Basketball Men's Basketball     NaN  \n",
       "1701            Munich  Basketball    Basketball Men's Basketball     NaN  \n",
       "1702            Moskva  Basketball    Basketball Men's Basketball     NaN  \n",
       "...                ...         ...                            ...     ...  \n",
       "269474          Athina  Basketball    Basketball Men's Basketball     NaN  \n",
       "269475         Beijing  Basketball    Basketball Men's Basketball     NaN  \n",
       "269476          London  Basketball    Basketball Men's Basketball     NaN  \n",
       "269608       Barcelona  Basketball  Basketball Women's Basketball    Gold  \n",
       "269609         Atlanta  Basketball  Basketball Women's Basketball     NaN  \n",
       "269627          Munich  Basketball    Basketball Men's Basketball     NaN  \n",
       "270060          Sydney  Basketball  Basketball Women's Basketball     NaN  \n",
       "270081          Athina  Basketball    Basketball Men's Basketball     NaN  \n",
       "270082         Beijing  Basketball    Basketball Men's Basketball     NaN  \n",
       "270119        Montreal  Basketball    Basketball Men's Basketball  Silver  \n",
       "270120          Moskva  Basketball    Basketball Men's Basketball    Gold  \n",
       "270121     Los Angeles  Basketball    Basketball Men's Basketball  Bronze  \n",
       "270278          London  Basketball  Basketball Women's Basketball     NaN  \n",
       "270360     Mexico City  Basketball    Basketball Men's Basketball  Silver  \n",
       "270382     Los Angeles  Basketball    Basketball Men's Basketball  Bronze  \n",
       "270444  Rio de Janeiro  Basketball    Basketball Men's Basketball     NaN  \n",
       "270522          London  Basketball  Basketball Women's Basketball     NaN  \n",
       "270534          London  Basketball    Basketball Men's Basketball     NaN  \n",
       "270535        Helsinki  Basketball    Basketball Men's Basketball     NaN  \n",
       "270536            Roma  Basketball    Basketball Men's Basketball     NaN  \n",
       "270613       Melbourne  Basketball    Basketball Men's Basketball  Silver  \n",
       "270614            Roma  Basketball    Basketball Men's Basketball  Silver  \n",
       "270680        Helsinki  Basketball    Basketball Men's Basketball     NaN  \n",
       "270740         Atlanta  Basketball    Basketball Men's Basketball  Bronze  \n",
       "270741          Sydney  Basketball    Basketball Men's Basketball  Bronze  \n",
       "270742          Athina  Basketball    Basketball Men's Basketball     NaN  \n",
       "270743         Atlanta  Basketball    Basketball Men's Basketball  Bronze  \n",
       "270744          Athina  Basketball    Basketball Men's Basketball     NaN  \n",
       "271026         Beijing  Basketball    Basketball Men's Basketball     NaN  \n",
       "271110  Rio de Janeiro  Basketball  Basketball Women's Basketball     NaN  \n",
       "\n",
       "[4536 rows x 15 columns]>"
      ]
     },
     "execution_count": 30,
     "metadata": {},
     "output_type": "execute_result"
    }
   ],
   "source": [
    "# You code here\n",
    "data[(data['Sport'] == 'Basketball')].duplicated"
   ]
  },
  {
   "cell_type": "markdown",
   "metadata": {},
   "source": [
    "__3. What are the mean and standard deviation of height for female tennis players who participated in the 2000 Olympics? Round the answer to the first decimal.__\n",
    "\n",
    "*For discussions, please stick to [ODS Slack](https://opendatascience.slack.com/), channel #mlcourse_ai_news, pinned thread #a1_q1-5_fall2019*\n",
    "\n",
    "- 171.8 and 6.5\n",
    "- 179.4 and 10\n",
    "- 180.7 and 6.7\n",
    "- 182.4 and 9.1 "
   ]
  },
  {
   "cell_type": "code",
   "execution_count": 6,
   "metadata": {},
   "outputs": [],
   "source": [
    "# You code here"
   ]
  },
  {
   "cell_type": "markdown",
   "metadata": {},
   "source": [
    "__4. Find a sportsman who participated in the 2006 Olympics, with the highest weight among other participants of the same Olympics. What sport did he or she do?__\n",
    "\n",
    "*For discussions, please stick to [ODS Slack](https://opendatascience.slack.com/), channel #mlcourse_ai_news, pinned thread #a1_q1-5_fall2019*\n",
    "\n",
    "- Judo\n",
    "- Bobsleigh \n",
    "- Skeleton\n",
    "- Boxing"
   ]
  },
  {
   "cell_type": "code",
   "execution_count": 7,
   "metadata": {},
   "outputs": [],
   "source": [
    "# You code here"
   ]
  },
  {
   "cell_type": "markdown",
   "metadata": {},
   "source": [
    "__5. How many times did John Aalberg participate in the Olympics held in different years?__\n",
    "\n",
    "*For discussions, please stick to [ODS Slack](https://opendatascience.slack.com/), channel #mlcourse_ai_news, pinned thread #a1_q1-5_fall2019*\n",
    "\n",
    "- 0\n",
    "- 1 \n",
    "- 2\n",
    "- 3 "
   ]
  },
  {
   "cell_type": "code",
   "execution_count": 8,
   "metadata": {},
   "outputs": [],
   "source": [
    "# You code here"
   ]
  },
  {
   "cell_type": "markdown",
   "metadata": {},
   "source": [
    "__6. How many gold medals in tennis did sportspeople from the Switzerland team win at the 2008 Olympics? Count every medal from every sportsperson.__\n",
    "\n",
    "*For discussions, please stick to [ODS Slack](https://opendatascience.slack.com/), channel #mlcourse_ai_news, pinned thread #a1_q6-10_fall2019*\n",
    "\n",
    "- 0\n",
    "- 1 \n",
    "- 2\n",
    "- 3 "
   ]
  },
  {
   "cell_type": "code",
   "execution_count": 9,
   "metadata": {},
   "outputs": [],
   "source": [
    "# You code here"
   ]
  },
  {
   "cell_type": "markdown",
   "metadata": {},
   "source": [
    "__7. Is it true that Spain won fewer medals than Italy at the 2016 Olympics? Do not consider NaN values in _Medal_ column.__ \n",
    "\n",
    "*For discussions, please stick to [ODS Slack](https://opendatascience.slack.com/), channel #mlcourse_ai_news, pinned thread #a1_q6-10_fall2019*\n",
    "\n",
    "- Yes\n",
    "- No"
   ]
  },
  {
   "cell_type": "code",
   "execution_count": 10,
   "metadata": {},
   "outputs": [],
   "source": [
    "# You code here"
   ]
  },
  {
   "cell_type": "markdown",
   "metadata": {},
   "source": [
    "__8. What age category did the fewest and the most participants of the 2008 Olympics belong to?__\n",
    "\n",
    "*For discussions, please stick to [ODS Slack](https://opendatascience.slack.com/), channel #mlcourse_ai_news, pinned thread #a1_q6-10_fall2019*\n",
    "\n",
    "- [45-55] and [25-35) correspondingly\n",
    "- [45-55] and [15-25) correspondingly\n",
    "- [35-45) and [25-35) correspondingly\n",
    "- [45-55] and [35-45) correspondingly"
   ]
  },
  {
   "cell_type": "code",
   "execution_count": 11,
   "metadata": {},
   "outputs": [],
   "source": [
    "# You code here"
   ]
  },
  {
   "cell_type": "markdown",
   "metadata": {},
   "source": [
    "__9. Is it true that there were Summer Olympics held in Atlanta? Is it true that there were Winter Olympics held in Squaw Valley?__\n",
    "\n",
    "*For discussions, please stick to [ODS Slack](https://opendatascience.slack.com/), channel #mlcourse_ai_news, pinned thread #a1_q6-10_fall2019*\n",
    "\n",
    "- Yes, Yes\n",
    "- Yes, No\n",
    "- No, Yes \n",
    "- No, No "
   ]
  },
  {
   "cell_type": "code",
   "execution_count": 12,
   "metadata": {},
   "outputs": [],
   "source": [
    "# You code here"
   ]
  },
  {
   "cell_type": "markdown",
   "metadata": {},
   "source": [
    "__10. What is the absolute difference between the number of unique sports at the 1986 Olympics and 2002 Olympics?__\n",
    "\n",
    "*For discussions, please stick to [ODS Slack](https://opendatascience.slack.com/), channel #mlcourse_ai_news, pinned thread #a1_q6-10_fall2019*\n",
    "\n",
    "- 3 \n",
    "- 10\n",
    "- 15\n",
    "- 27 "
   ]
  },
  {
   "cell_type": "code",
   "execution_count": 13,
   "metadata": {},
   "outputs": [],
   "source": [
    "# You code here"
   ]
  },
  {
   "cell_type": "markdown",
   "metadata": {},
   "source": [
    "That's it! Now go and do 30 push-ups! :)"
   ]
  }
 ],
 "metadata": {
  "kernelspec": {
   "display_name": "Python 3",
   "language": "python",
   "name": "python3"
  },
  "language_info": {
   "codemirror_mode": {
    "name": "ipython",
    "version": 3
   },
   "file_extension": ".py",
   "mimetype": "text/x-python",
   "name": "python",
   "nbconvert_exporter": "python",
   "pygments_lexer": "ipython3",
   "version": "3.6.7"
  }
 },
 "nbformat": 4,
 "nbformat_minor": 2
}
